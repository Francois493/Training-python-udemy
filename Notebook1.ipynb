{
 "cells": [
  {
   "cell_type": "code",
   "execution_count": 5,
   "metadata": {},
   "outputs": [
    {
     "name": "stdout",
     "output_type": "stream",
     "text": [
      "Ain,643309\n",
      "Aisne,554040\n",
      "Allier,353262\n",
      "Alpes-de-Haute-Provence,166298\n",
      "Alpes-Maritimes,1098785\n",
      "Ardèche,332051\n",
      "Ardennes,287775\n",
      "Ariège,158076\n",
      "Aube,316098\n",
      "Aude,375065\n",
      "Aveyron,289901\n",
      "Bas-Rhin,1131812\n",
      "Bouches-du-Rhône,2035475\n",
      "Calvados,708407\n",
      "Cantal,152400\n",
      "Charente,366787\n",
      "Charente-Maritime,656046\n",
      "Cher,318590\n",
      "Corrèze,249684\n",
      "Corse-du-Sud,154100\n",
      "Côte-d'Or,545001\n",
      "Côtes-d'Armor,617413\n",
      "Creuse,124948\n",
      "Deux-Sèvres,384655\n",
      "Dordogne,428651\n",
      "Doubs,549155\n",
      "Drôme,514104\n",
      "Essonne,1286908\n",
      "Eure,616076\n",
      "Eure-et-Loir,445083\n",
      "Finistère,935393\n",
      "Gard,752382\n",
      "Gers,197988\n",
      "Gironde,1556663\n",
      "Guadeloupe,406706\n",
      "Guyane,254845\n",
      "Haute-Corse,175499\n",
      "Haute-Garonne,1344579\n",
      "Haute-Loire,234078\n",
      "Haute-Marne,186698\n",
      "Hautes-Alpes,145213\n",
      "Haute-Saône,246022\n",
      "Haute-Savoie,806447\n",
      "Hautes-Pyrénées,236577\n",
      "Haute-Vienne,384708\n",
      "Haut-Rhin,775941\n",
      "Hauts-de-Seine,1617484\n",
      "Hérault,1127333\n",
      "Ille-et-Vilaine,1060051\n",
      "Indre,232802\n",
      "Indre-et-Loire,619004\n",
      "Isère,1271938\n",
      "Jura,270826\n",
      "La Réunion,541487\n",
      "Landes,414090\n",
      "Loire,774262\n",
      "Loire-Atlantique,1382766\n",
      "Loiret,688098\n",
      "Loir-et-Cher,344121\n",
      "Lot,180016\n",
      "Lot-et-Garonne,343198\n",
      "Lozère,80423\n",
      "Maine-et-Loire,829156\n",
      "Manche,518322\n",
      "Marne,584297\n",
      "Martinique,390252\n",
      "Mayenne,317716\n",
      "Meurthe-et-Moselle,746687\n",
      "Meuse,197763\n",
      "Morbihan,764338\n",
      "Moselle,1065894\n",
      "Nièvre,221048\n",
      "Nord,2640622\n",
      "Oise,838646\n",
      "Orne,297109\n",
      "Paris,2243739\n",
      "Pas-de-Calais,1497668\n",
      "Puy-de-Dôme,661248\n",
      "Pyrénées-Atlantiques,688451\n",
      "Pyrénées-Orientales,474842\n",
      "Rhône,1833002\n",
      "Saône-et-Loire,574229\n",
      "Sarthe,583961\n",
      "Savoie,440777\n",
      "Seine-et-Marne,1400477\n",
      "Seine-Maritime,1284107\n",
      "Seine-Saint-Denis,1582139\n",
      "Somme,583641\n",
      "Tarn,396341\n",
      "Tarn-et-Garonne,258696\n",
      "Territoire de Belfort,147647\n",
      "Val-de-Marne,1377511\n",
      "Val-d'Oise,1221946\n",
      "Var,1055745\n",
      "Vaucluse,566592\n",
      "Vendée,681469\n",
      "Vienne,444347\n",
      "Vosges,386978\n",
      "Yonne,352433\n",
      "Yvelines,1449398\n"
     ]
    }
   ],
   "source": [
    "f=open(\"departements_fr.csv\",\"r\")\n",
    "data=f.read()\n",
    "print(data)"
   ]
  },
  {
   "cell_type": "code",
   "execution_count": 9,
   "metadata": {},
   "outputs": [],
   "source": [
    "rows=data.split(\"\\n\")"
   ]
  },
  {
   "cell_type": "code",
   "execution_count": 10,
   "metadata": {},
   "outputs": [
    {
     "name": "stdout",
     "output_type": "stream",
     "text": [
      "['Ain,643309', 'Aisne,554040', 'Allier,353262', 'Alpes-de-Haute-Provence,166298', 'Alpes-Maritimes,1098785', 'Ardèche,332051', 'Ardennes,287775', 'Ariège,158076', 'Aube,316098', 'Aude,375065', 'Aveyron,289901', 'Bas-Rhin,1131812', 'Bouches-du-Rhône,2035475', 'Calvados,708407', 'Cantal,152400', 'Charente,366787', 'Charente-Maritime,656046', 'Cher,318590', 'Corrèze,249684', 'Corse-du-Sud,154100', \"Côte-d'Or,545001\", \"Côtes-d'Armor,617413\", 'Creuse,124948', 'Deux-Sèvres,384655', 'Dordogne,428651', 'Doubs,549155', 'Drôme,514104', 'Essonne,1286908', 'Eure,616076', 'Eure-et-Loir,445083', 'Finistère,935393', 'Gard,752382', 'Gers,197988', 'Gironde,1556663', 'Guadeloupe,406706', 'Guyane,254845', 'Haute-Corse,175499', 'Haute-Garonne,1344579', 'Haute-Loire,234078', 'Haute-Marne,186698', 'Hautes-Alpes,145213', 'Haute-Saône,246022', 'Haute-Savoie,806447', 'Hautes-Pyrénées,236577', 'Haute-Vienne,384708', 'Haut-Rhin,775941', 'Hauts-de-Seine,1617484', 'Hérault,1127333', 'Ille-et-Vilaine,1060051', 'Indre,232802', 'Indre-et-Loire,619004', 'Isère,1271938', 'Jura,270826', 'La Réunion,541487', 'Landes,414090', 'Loire,774262', 'Loire-Atlantique,1382766', 'Loiret,688098', 'Loir-et-Cher,344121', 'Lot,180016', 'Lot-et-Garonne,343198', 'Lozère,80423', 'Maine-et-Loire,829156', 'Manche,518322', 'Marne,584297', 'Martinique,390252', 'Mayenne,317716', 'Meurthe-et-Moselle,746687', 'Meuse,197763', 'Morbihan,764338', 'Moselle,1065894', 'Nièvre,221048', 'Nord,2640622', 'Oise,838646', 'Orne,297109', 'Paris,2243739', 'Pas-de-Calais,1497668', 'Puy-de-Dôme,661248', 'Pyrénées-Atlantiques,688451', 'Pyrénées-Orientales,474842', 'Rhône,1833002', 'Saône-et-Loire,574229', 'Sarthe,583961', 'Savoie,440777', 'Seine-et-Marne,1400477', 'Seine-Maritime,1284107', 'Seine-Saint-Denis,1582139', 'Somme,583641', 'Tarn,396341', 'Tarn-et-Garonne,258696', 'Territoire de Belfort,147647', 'Val-de-Marne,1377511', \"Val-d'Oise,1221946\", 'Var,1055745', 'Vaucluse,566592', 'Vendée,681469', 'Vienne,444347', 'Vosges,386978', 'Yonne,352433', 'Yvelines,1449398']\n"
     ]
    }
   ],
   "source": [
    "print(rows)"
   ]
  },
  {
   "cell_type": "code",
   "execution_count": 12,
   "metadata": {},
   "outputs": [
    {
     "name": "stdout",
     "output_type": "stream",
     "text": [
      "[['Ain', '643309'], ['Aisne', '554040'], ['Allier', '353262'], ['Alpes-de-Haute-Provence', '166298'], ['Alpes-Maritimes', '1098785']]\n"
     ]
    }
   ],
   "source": [
    "split_data = []\n",
    "for i in rows:\n",
    "    split_data.append(i.split(\",\"))\n",
    "print(split_data[0:5])"
   ]
  },
  {
   "cell_type": "code",
   "execution_count": 15,
   "metadata": {},
   "outputs": [
    {
     "name": "stdout",
     "output_type": "stream",
     "text": [
      "['Ain', 'Aisne', 'Allier', 'Alpes-de-Haute-Provence', 'Alpes-Maritimes']\n"
     ]
    }
   ],
   "source": [
    "departments_list = []\n",
    "\n",
    "for row in split_data:\n",
    "    dep = row[0]\n",
    "    departments_list.append(dep)\n",
    "print(departments_list[0:5])"
   ]
  },
  {
   "cell_type": "code",
   "execution_count": null,
   "metadata": {},
   "outputs": [],
   "source": []
  }
 ],
 "metadata": {
  "kernelspec": {
   "display_name": "Python 3",
   "language": "python",
   "name": "python3"
  },
  "language_info": {
   "codemirror_mode": {
    "name": "ipython",
    "version": 3
   },
   "file_extension": ".py",
   "mimetype": "text/x-python",
   "name": "python",
   "nbconvert_exporter": "python",
   "pygments_lexer": "ipython3",
   "version": "3.8.5"
  }
 },
 "nbformat": 4,
 "nbformat_minor": 4
}
