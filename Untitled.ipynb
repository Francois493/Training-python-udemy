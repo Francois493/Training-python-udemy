{
 "cells": [
  {
   "cell_type": "code",
   "execution_count": 21,
   "metadata": {},
   "outputs": [
    {
     "name": "stdout",
     "output_type": "stream",
     "text": [
      "[['last_name', 'first_name', 'birthday', 'gender', 'type', 'state', 'party'], ['Bassett', 'Richard', '1745-04-02', 'M', 'sen', 'DE', 'Anti-Administration'], ['Bland', 'Theodorick', '1742-03-21', '', 'rep', 'VA', ''], ['Burke', 'Aedanus', '1743-06-16', '', 'rep', 'SC', ''], ['Carroll', 'Daniel', '1730-07-22', 'M', 'rep', 'MD', ''], ['Clymer', 'George', '1739-03-16', 'M', 'rep', 'PA', ''], ['Contee', 'Benjamin', '', 'M', 'rep', 'MD', ''], ['Dalton', 'Tristram', '1738-05-28', '', 'sen', 'MA', 'Pro-Administration'], ['Elmer', 'Jonathan', '1745-11-29', 'M', 'sen', 'NJ', 'Pro-Administration'], ['Few', 'William', '1748-06-08', 'M', 'sen', 'GA', 'Anti-Administration']]\n"
     ]
    }
   ],
   "source": [
    "import csv\n",
    "f = open(\"legislators.csv\")\n",
    "legislator = list(csv.reader(f))\n",
    "\n",
    "print(legislator[0:10])"
   ]
  },
  {
   "cell_type": "code",
   "execution_count": 22,
   "metadata": {},
   "outputs": [
    {
     "name": "stdout",
     "output_type": "stream",
     "text": [
      "{'', 'M', 'F', 'gender'}\n"
     ]
    }
   ],
   "source": [
    "gender = []\n",
    "\n",
    "for row in legislator:\n",
    "    gender.append(row[3])\n",
    "\n",
    "gender = set(gender)\n",
    "print(gender)"
   ]
  },
  {
   "cell_type": "code",
   "execution_count": 7,
   "metadata": {},
   "outputs": [
    {
     "data": {
      "text/plain": [
       "{'',\n",
       " 'Adams',\n",
       " 'Adams Democrat',\n",
       " 'American',\n",
       " 'American Labor',\n",
       " 'Anti Jackson',\n",
       " 'Anti Jacksonian',\n",
       " 'Anti Masonic',\n",
       " 'Anti-Administration',\n",
       " 'Anti-Jacksonian',\n",
       " 'Anti-Lecompton Democrat',\n",
       " 'Coalitionist',\n",
       " 'Conservative',\n",
       " 'Conservative Republican',\n",
       " 'Constitutional Unionist',\n",
       " 'Crawford Republican',\n",
       " 'Democrat',\n",
       " 'Democrat-Liberal',\n",
       " 'Democratic Republican',\n",
       " 'Democratic and Union Labor',\n",
       " 'Farmer-Labor',\n",
       " 'Federalist',\n",
       " 'Free Silver',\n",
       " 'Free Soil',\n",
       " 'Ind. Democrat',\n",
       " 'Ind. Republican',\n",
       " 'Ind. Republican-Democrat',\n",
       " 'Ind. Whig',\n",
       " 'Independent',\n",
       " 'Independent Democrat',\n",
       " 'Jackson',\n",
       " 'Jackson Republican',\n",
       " 'Jacksonian',\n",
       " 'Law and Order',\n",
       " 'Liberal Republican',\n",
       " 'Liberty',\n",
       " 'National Greenbacker',\n",
       " 'New Progressive',\n",
       " 'Nonpartisan',\n",
       " 'Nullifier',\n",
       " 'Popular Democrat',\n",
       " 'Populist',\n",
       " 'Pro-Administration',\n",
       " 'Progressive',\n",
       " 'Progressive Republican',\n",
       " 'Prohibitionist',\n",
       " 'Readjuster',\n",
       " 'Readjuster Democrat',\n",
       " 'Republican',\n",
       " 'Republican-Conservative',\n",
       " 'Silver Republican',\n",
       " 'Socialist',\n",
       " 'States Rights',\n",
       " 'Unconditional Unionist',\n",
       " 'Union',\n",
       " 'Union Democrat',\n",
       " 'Union Labor',\n",
       " 'Unionist',\n",
       " 'Unknown',\n",
       " 'Whig'}"
      ]
     },
     "execution_count": 7,
     "metadata": {},
     "output_type": "execute_result"
    }
   ],
   "source": [
    "party = []\n",
    "\n",
    "for item in legislator:\n",
    "    party.append(item[6])\n",
    "\n",
    "party = set(party)\n",
    "set(party)"
   ]
  },
  {
   "cell_type": "code",
   "execution_count": 9,
   "metadata": {},
   "outputs": [
    {
     "data": {
      "text/plain": [
       "{'Adams',\n",
       " 'Adams Democrat',\n",
       " 'American',\n",
       " 'American Labor',\n",
       " 'Anti Jackson',\n",
       " 'Anti Jacksonian',\n",
       " 'Anti Masonic',\n",
       " 'Anti-Administration',\n",
       " 'Anti-Jacksonian',\n",
       " 'Anti-Lecompton Democrat',\n",
       " 'Coalitionist',\n",
       " 'Conservative',\n",
       " 'Conservative Republican',\n",
       " 'Constitutional Unionist',\n",
       " 'Crawford Republican',\n",
       " 'Democrat',\n",
       " 'Democrat-Liberal',\n",
       " 'Democratic Republican',\n",
       " 'Democratic and Union Labor',\n",
       " 'Farmer-Labor',\n",
       " 'Federalist',\n",
       " 'Free Silver',\n",
       " 'Free Soil',\n",
       " 'Ind. Democrat',\n",
       " 'Ind. Republican',\n",
       " 'Ind. Republican-Democrat',\n",
       " 'Ind. Whig',\n",
       " 'Independent',\n",
       " 'Independent Democrat',\n",
       " 'Jackson',\n",
       " 'Jackson Republican',\n",
       " 'Jacksonian',\n",
       " 'Law and Order',\n",
       " 'Liberal Republican',\n",
       " 'Liberty',\n",
       " 'National Greenbacker',\n",
       " 'New Progressive',\n",
       " 'No party',\n",
       " 'Nonpartisan',\n",
       " 'Nullifier',\n",
       " 'Popular Democrat',\n",
       " 'Populist',\n",
       " 'Pro-Administration',\n",
       " 'Progressive',\n",
       " 'Progressive Republican',\n",
       " 'Prohibitionist',\n",
       " 'Readjuster',\n",
       " 'Readjuster Democrat',\n",
       " 'Republican',\n",
       " 'Republican-Conservative',\n",
       " 'Silver Republican',\n",
       " 'Socialist',\n",
       " 'States Rights',\n",
       " 'Unconditional Unionist',\n",
       " 'Union',\n",
       " 'Union Democrat',\n",
       " 'Union Labor',\n",
       " 'Unionist',\n",
       " 'Unknown',\n",
       " 'Whig'}"
      ]
     },
     "execution_count": 9,
     "metadata": {},
     "output_type": "execute_result"
    }
   ],
   "source": [
    "for row in legislator:\n",
    "    if row[6] == \"\":\n",
    "        row[6] = \"No party\"\n",
    "        \n",
    "party = []\n",
    "\n",
    "for item in legislator:\n",
    "    party.append(item[6])\n",
    "\n",
    "party = set(party)\n",
    "set(party)"
   ]
  },
  {
   "cell_type": "code",
   "execution_count": 24,
   "metadata": {},
   "outputs": [
    {
     "data": {
      "text/plain": [
       "{'F', 'M', 'gender'}"
      ]
     },
     "execution_count": 24,
     "metadata": {},
     "output_type": "execute_result"
    }
   ],
   "source": [
    "gender=[]\n",
    "for item in legislator:\n",
    "    if item[3] == \"\":\n",
    "        item[3] = \"M\"\n",
    "        gender.append(item[3])\n",
    "    else:\n",
    "        gender.append(item[3])\n",
    "\n",
    "gender = set(gender)\n",
    "set(gender)"
   ]
  },
  {
   "cell_type": "code",
   "execution_count": 14,
   "metadata": {},
   "outputs": [
    {
     "name": "stdout",
     "output_type": "stream",
     "text": [
      "['1743', '1730', '1739', '', '1738', '1745', '1748', '1734', '1756', '']\n"
     ]
    }
   ],
   "source": [
    "birth_years=[]\n",
    "for row in legislator:\n",
    "    col = row[2].split(\"-\")\n",
    "    birth_years.append(col[0])\n",
    "\n",
    "print(birth_years[0:10])"
   ]
  },
  {
   "cell_type": "markdown",
   "metadata": {},
   "source": [
    "### Le mot clé pass"
   ]
  },
  {
   "cell_type": "code",
   "execution_count": 16,
   "metadata": {},
   "outputs": [],
   "source": [
    "numbers = [1,2,3,4,5,6,7,8,9,10]\n",
    "\n",
    "for i in numbers:\n",
    "    try:\n",
    "        int('')\n",
    "    except Exception:\n",
    "        pass"
   ]
  },
  {
   "cell_type": "code",
   "execution_count": 19,
   "metadata": {},
   "outputs": [
    {
     "name": "stdout",
     "output_type": "stream",
     "text": [
      "[1743, 1730, 1739, '', 1738, 1745, 1748, 1734, 1756, '', 1737, 1754, 1736, '', 1727, 1733, 1732, 1737, 1739, 1734]\n"
     ]
    }
   ],
   "source": [
    "int_years = []\n",
    "for i in birth_years:\n",
    "    try:\n",
    "        i = int(i)\n",
    "    except Exception:\n",
    "        pass\n",
    "    int_years.append(i)\n",
    "print(int_years[0:20])"
   ]
  },
  {
   "cell_type": "code",
   "execution_count": 29,
   "metadata": {},
   "outputs": [],
   "source": [
    "for row in legislator:\n",
    "    birthday = row[2].split(\"-\")\n",
    "    birth_year = birthday[0]\n",
    "    try:\n",
    "        birth_year = int(birth_year)\n",
    "    except Exception:\n",
    "        birth_year = 0\n",
    "    row.append(birth_year)\n",
    "legislator[0][7] = \"Birth_year\""
   ]
  },
  {
   "cell_type": "code",
   "execution_count": 30,
   "metadata": {},
   "outputs": [
    {
     "name": "stdout",
     "output_type": "stream",
     "text": [
      "[['last_name', 'first_name', 'birthday', 'gender', 'type', 'state', 'party', 'Birth_year'], ['Bassett', 'Richard', '1745-04-02', 'M', 'sen', 'DE', 'Anti-Administration', 1745], ['Bland', 'Theodorick', '1742-03-21', 'M', 'rep', 'VA', '', 1742], ['Burke', 'Aedanus', '1743-06-16', 'M', 'rep', 'SC', '', 1743], ['Carroll', 'Daniel', '1730-07-22', 'M', 'rep', 'MD', '', 1730], ['Clymer', 'George', '1739-03-16', 'M', 'rep', 'PA', '', 1739], ['Contee', 'Benjamin', '', 'M', 'rep', 'MD', '', 0], ['Dalton', 'Tristram', '1738-05-28', 'M', 'sen', 'MA', 'Pro-Administration', 1738], ['Elmer', 'Jonathan', '1745-11-29', 'M', 'sen', 'NJ', 'Pro-Administration', 1745], ['Few', 'William', '1748-06-08', 'M', 'sen', 'GA', 'Anti-Administration', 1748], ['Floyd', 'William', '1734-12-17', 'M', 'rep', 'NY', '', 1734], ['Gale', 'George', '1756-06-03', 'M', 'rep', 'MD', '', 1756], ['Grayson', 'William', '', 'M', 'sen', 'VA', 'Anti-Administration', 0], ['Grout', 'Jonathan', '1737-07-23', 'M', 'rep', 'MA', '', 1737], ['Hawkins', 'Benjamin', '1754-08-15', 'M', 'sen', 'NC', 'Pro-Administration', 1754], ['Huntington', 'Benjamin', '1736-04-19', 'M', 'rep', 'CT', '', 1736], ['Izard', 'Ralph', '', 'M', 'sen', 'SC', 'Pro-Administration', 0], ['Johnson', 'William', '1727-10-07', 'M', 'sen', 'CT', 'Pro-Administration', 1727], ['Johnston', 'Samuel', '1733-12-15', 'M', 'sen', 'NC', 'Pro-Administration', 1733], ['Lee', 'Richard', '1732-01-20', 'M', 'sen', 'VA', 'Anti-Administration', 1732]]\n"
     ]
    }
   ],
   "source": [
    "print(legislator[0:20])"
   ]
  },
  {
   "cell_type": "code",
   "execution_count": 31,
   "metadata": {},
   "outputs": [],
   "source": [
    "last_value = 1\n",
    "for row in legislator:\n",
    "    if row[7] == 0:\n",
    "        row[7] = last_value\n",
    "    last_value = row[7]\n",
    "\n",
    "        "
   ]
  },
  {
   "cell_type": "code",
   "execution_count": 32,
   "metadata": {},
   "outputs": [
    {
     "name": "stdout",
     "output_type": "stream",
     "text": [
      "[['last_name', 'first_name', 'birthday', 'gender', 'type', 'state', 'party', 'Birth_year'], ['Bassett', 'Richard', '1745-04-02', 'M', 'sen', 'DE', 'Anti-Administration', 1745], ['Bland', 'Theodorick', '1742-03-21', 'M', 'rep', 'VA', '', 1742], ['Burke', 'Aedanus', '1743-06-16', 'M', 'rep', 'SC', '', 1743], ['Carroll', 'Daniel', '1730-07-22', 'M', 'rep', 'MD', '', 1730], ['Clymer', 'George', '1739-03-16', 'M', 'rep', 'PA', '', 1739], ['Contee', 'Benjamin', '', 'M', 'rep', 'MD', '', 1739], ['Dalton', 'Tristram', '1738-05-28', 'M', 'sen', 'MA', 'Pro-Administration', 1738], ['Elmer', 'Jonathan', '1745-11-29', 'M', 'sen', 'NJ', 'Pro-Administration', 1745], ['Few', 'William', '1748-06-08', 'M', 'sen', 'GA', 'Anti-Administration', 1748]]\n"
     ]
    }
   ],
   "source": [
    "print(legislator[0:10])"
   ]
  },
  {
   "cell_type": "code",
   "execution_count": 34,
   "metadata": {},
   "outputs": [
    {
     "name": "stdout",
     "output_type": "stream",
     "text": [
      "{'Enid': 1, 'Lynn': 1, 'Karen': 1, 'Denise': 1, 'Katherine': 1, 'Melissa': 2, 'Blanche': 1, 'Cynthia': 1, 'Shelley': 2, 'Nancy': 1, 'Deborah': 2, 'Heather': 1, 'Kathleen': 2, 'Mary': 2, 'Stephanie': 1, 'Betsy': 1, 'Hilda': 1, 'Ellen': 1, 'Gabrielle': 1, 'Sandy': 1, 'Ann Marie': 1, 'Nan': 1, 'Laura': 1, 'Jean': 1, 'Betty': 1}\n"
     ]
    }
   ],
   "source": [
    "name_counts = {}\n",
    "\n",
    "for row in legislator:\n",
    "    if row[3] == \"F\" and row[7] > 1950:\n",
    "        if row[1] in name_counts:\n",
    "            name_counts[row[1]] += 1\n",
    "        else:\n",
    "            name_counts[row[1]] = 1\n",
    "print(name_counts)\n",
    "    "
   ]
  },
  {
   "cell_type": "code",
   "execution_count": 35,
   "metadata": {},
   "outputs": [
    {
     "name": "stdout",
     "output_type": "stream",
     "text": [
      "[False, False, True, False, True]\n"
     ]
    }
   ],
   "source": [
    "values = [None, 1, 45, None, 75]\n",
    "check = [x is not None and x > 30 for x in values]\n",
    "print(check)"
   ]
  },
  {
   "cell_type": "code",
   "execution_count": 36,
   "metadata": {},
   "outputs": [],
   "source": [
    "max_value = None\n",
    "for k in name_counts:\n",
    "    count = name_counts[k]\n",
    "    if max_value is None or count > max_value:\n",
    "        max_value = count\n",
    "    "
   ]
  },
  {
   "cell_type": "code",
   "execution_count": 37,
   "metadata": {},
   "outputs": [
    {
     "name": "stdout",
     "output_type": "stream",
     "text": [
      "2\n"
     ]
    }
   ],
   "source": [
    "print(max_value)"
   ]
  },
  {
   "cell_type": "markdown",
   "metadata": {},
   "source": [
    "#### la méthode items"
   ]
  },
  {
   "cell_type": "code",
   "execution_count": 38,
   "metadata": {},
   "outputs": [],
   "source": [
    "fruits = { \"banane\":9, \"orange\": 15, \"kiwi\":4}"
   ]
  },
  {
   "cell_type": "code",
   "execution_count": 40,
   "metadata": {},
   "outputs": [
    {
     "name": "stdout",
     "output_type": "stream",
     "text": [
      "banane\n",
      "9\n",
      "orange\n",
      "15\n",
      "kiwi\n",
      "4\n"
     ]
    }
   ],
   "source": [
    "for fruit, number in fruits.items():\n",
    "    print(fruit)\n",
    "    print(number)"
   ]
  },
  {
   "cell_type": "code",
   "execution_count": 43,
   "metadata": {},
   "outputs": [],
   "source": [
    "top_female_names = []\n",
    "top_female_names = [k for k, v in name_counts.items() if v == 2]"
   ]
  },
  {
   "cell_type": "code",
   "execution_count": 44,
   "metadata": {},
   "outputs": [
    {
     "name": "stdout",
     "output_type": "stream",
     "text": [
      "['Melissa', 'Shelley', 'Deborah', 'Kathleen', 'Mary']\n"
     ]
    }
   ],
   "source": [
    "print(top_female_names)"
   ]
  },
  {
   "cell_type": "code",
   "execution_count": 45,
   "metadata": {},
   "outputs": [],
   "source": [
    "male_name_counts = {}\n",
    "\n",
    "for row in legislator:\n",
    "    if row[3] == \"M\" and row[7] > 1940:\n",
    "        if row[1] in male_name_counts:\n",
    "            male_name_counts[row[1]] += 1\n",
    "        else:\n",
    "            male_name_counts[row[1]] = 1\n"
   ]
  },
  {
   "cell_type": "code",
   "execution_count": 46,
   "metadata": {},
   "outputs": [
    {
     "name": "stdout",
     "output_type": "stream",
     "text": [
      "{'Alan': 3, 'Michael': 20, 'Bruce': 2, 'David': 24, 'James': 31, 'John': 35, 'Mendel': 1, 'Elizabeth': 1, 'Paul': 6, 'Joseph': 5, 'Donald': 4, 'William': 21, 'Huey': 1, 'Billy': 1, 'Thomas': 18, 'Jon': 6, 'Anthony': 3, 'Charles': 17, 'Kent': 2, 'Raymond': 2, 'Lyle': 1, 'Fred': 2, 'Robert': 24, 'Kenneth': 1, 'Mark': 9, 'Eldon': 1, 'Harold': 3, 'Daniel': 4, 'Patrick': 3, 'Jim': 6, 'Douglas': 1, 'Richard': 9, 'Royden': 1, 'George': 6, 'Tommy': 1, 'Claudine': 1, 'Bill': 3, 'Larkin': 1, 'Peter': 9, 'Chester': 1, 'Les': 1, 'Harry': 2, 'Terry': 1, 'Rodney': 2, 'Earl': 3, 'Brian': 4, 'Dennis': 6, 'Edward': 3, 'Jaime': 1, 'Albert': 3, 'Clyde': 1, 'Craig': 2, 'Ben': 4, 'Meldon': 1, 'Bob': 10, 'Carl': 1, 'Larry': 5, 'Martin': 3, 'Gerald': 3, 'Lawrence': 1, 'Harley': 1, 'Leslie': 1, 'Milton': 1, 'Samuel': 2, 'Karan': 1, 'Eric': 3, 'Frederick': 2, 'Clete': 1, 'Dirk': 1, 'Myron': 1, 'H.': 2, 'Jill': 1, 'Ronald': 2, 'Marjorie': 1, 'Carol': 1, 'Timothy': 3, 'Lynn': 1, 'Philip': 2, 'Spencer': 1, 'Dick': 1, 'Frank': 6, 'Cleo': 1, 'Jack': 2, 'Gary': 3, 'Victor': 3, 'Dan': 3, 'Preston': 1, 'Rod': 2, 'Steven': 5, 'J.': 3, 'Gregory': 1, 'Kweisi': 1, 'Lewis': 1, 'Mel': 2, 'Andrea': 1, 'Randy': 1, 'Walter': 3, 'Sheila': 1, 'Henry': 2, 'Floyd': 1, 'Newton': 1, 'Phil': 2, 'Tim': 3, 'Jay': 2, 'Scott': 4, 'Susan': 1, 'L.': 1, 'Glenn': 2, 'Linda': 1, 'Vincent': 1, 'Tom': 2, 'Merrill': 1, 'Tillie': 1, 'Sam': 1, 'Rick': 4, 'Ron': 3, 'Don': 1, 'Ken': 2, 'Ed': 2, 'Lincoln': 3, 'Greg': 1, 'Felix': 1, 'Tony': 1, 'Van': 1, 'Asa': 1, 'Steve': 4, 'Joe': 4, 'Ronnie': 1, 'J.C.': 1, 'Dean': 1, 'AnÃ\\xadbal': 1, 'Wayne': 2, 'Chris': 2, 'Max': 3, 'Brad': 2, 'Norm': 1, 'Calvin': 1, 'Ernest': 2, 'Jonas': 1, 'Christopher': 6, 'Doug': 1, 'Gordon': 1, 'Evan': 1, 'Jeb': 1, 'C.': 1, 'Randall': 1, 'Byron': 1, 'Lane': 1, 'Russell': 1, 'Judd': 1, 'Gilbert': 1, 'C.L.': 1, 'Ted': 1, 'W.': 2, 'Rahm': 1, 'Luis': 1, 'Vito': 1, 'Virgil': 1, 'Robin': 1, 'Kenny': 1, 'Duncan': 1, 'Bobby': 2, 'Ric': 1, 'Ray': 1, 'Nicholas': 1, 'Trent': 1, 'Allen': 2, 'Stephen': 1, 'Anh': 1, 'Travis': 1, 'Artur': 1, 'Nathan': 1, 'Barton': 1, 'Parker': 1, 'Baron': 1, 'Kendrick': 1, 'Adam': 1, 'Ciro': 1, 'Zachary': 1, 'Bart': 1, 'Gene': 1, 'Todd': 2, 'Zach': 1, 'Carte': 1, 'Geoff': 1, 'Thaddeus': 1, 'Jesse': 1, 'Barack': 1, 'Jeff': 2, 'Jason': 1, 'Howard': 1, 'Francisco': 1, 'Russ': 1, 'Hansen': 1, 'Jerry': 1, 'Chip': 1, 'Elton': 1, 'Connie': 1, 'R.': 1, 'Mike': 2, 'Silvestre': 1, 'Heath': 1, 'Clifford': 1, 'Jo': 1, 'Jeffrey': 1, 'Melvin': 1, 'Trey': 1}\n"
     ]
    }
   ],
   "source": [
    "print (male_name_counts)"
   ]
  },
  {
   "cell_type": "code",
   "execution_count": 57,
   "metadata": {},
   "outputs": [],
   "source": [
    "top_male_count = None\n",
    "\n",
    "for name, count in male_name_counts.items():\n",
    "    if top_male_count is None or count > top_male_count:\n",
    "        top_male_count = count"
   ]
  },
  {
   "cell_type": "code",
   "execution_count": 50,
   "metadata": {},
   "outputs": [
    {
     "name": "stdout",
     "output_type": "stream",
     "text": [
      "35\n"
     ]
    }
   ],
   "source": [
    "print(top_male_count)"
   ]
  },
  {
   "cell_type": "code",
   "execution_count": 53,
   "metadata": {},
   "outputs": [],
   "source": [
    "top_male_names = []\n",
    "top_male_names = [k for k, v in male_name_counts.items() if v == top_male_count]"
   ]
  },
  {
   "cell_type": "code",
   "execution_count": 54,
   "metadata": {},
   "outputs": [
    {
     "name": "stdout",
     "output_type": "stream",
     "text": [
      "['John']\n"
     ]
    }
   ],
   "source": [
    "print(top_male_names)"
   ]
  },
  {
   "cell_type": "code",
   "execution_count": null,
   "metadata": {},
   "outputs": [],
   "source": []
  }
 ],
 "metadata": {
  "kernelspec": {
   "display_name": "Python 3",
   "language": "python",
   "name": "python3"
  },
  "language_info": {
   "codemirror_mode": {
    "name": "ipython",
    "version": 3
   },
   "file_extension": ".py",
   "mimetype": "text/x-python",
   "name": "python",
   "nbconvert_exporter": "python",
   "pygments_lexer": "ipython3",
   "version": "3.8.5"
  }
 },
 "nbformat": 4,
 "nbformat_minor": 4
}
