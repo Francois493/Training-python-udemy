{
 "cells": [
  {
   "cell_type": "markdown",
   "metadata": {},
   "source": [
    "### dcécouverte du dataset"
   ]
  },
  {
   "cell_type": "code",
   "execution_count": 88,
   "metadata": {},
   "outputs": [],
   "source": [
    "import csv \n",
    "with open(\"guns.csv\",\"r\") as f:\n",
    "    guns = list(csv.reader(f))"
   ]
  },
  {
   "cell_type": "code",
   "execution_count": 89,
   "metadata": {},
   "outputs": [
    {
     "name": "stdout",
     "output_type": "stream",
     "text": [
      "[['', 'year', 'month', 'intent', 'police', 'sex', 'age', 'race', 'hispanic', 'place', 'education'], ['1', '2012', '01', 'Suicide', '0', 'M', '34', 'Asian/Pacific Islander', '100', 'Home', '4'], ['2', '2012', '01', 'Suicide', '0', 'F', '21', 'White', '100', 'Street', '3'], ['3', '2012', '01', 'Suicide', '0', 'M', '60', 'White', '100', 'Other specified', '4'], ['4', '2012', '02', 'Suicide', '0', 'M', '64', 'White', '100', 'Home', '4'], ['5', '2012', '02', 'Suicide', '0', 'M', '31', 'White', '100', 'Other specified', '2'], ['6', '2012', '02', 'Suicide', '0', 'M', '17', 'Native American/Native Alaskan', '100', 'Home', '1'], ['7', '2012', '02', 'Undetermined', '0', 'M', '48', 'White', '100', 'Home', '2'], ['8', '2012', '03', 'Suicide', '0', 'M', '41', 'Native American/Native Alaskan', '100', 'Home', '2'], ['9', '2012', '02', 'Accidental', '0', 'M', '50', 'White', '100', 'Other specified', '3']]\n"
     ]
    }
   ],
   "source": [
    "print(guns[0:10])"
   ]
  },
  {
   "cell_type": "markdown",
   "metadata": {},
   "source": [
    "#### suppression de l'en-tête"
   ]
  },
  {
   "cell_type": "code",
   "execution_count": 90,
   "metadata": {},
   "outputs": [
    {
     "name": "stdout",
     "output_type": "stream",
     "text": [
      "['', 'year', 'month', 'intent', 'police', 'sex', 'age', 'race', 'hispanic', 'place', 'education']\n"
     ]
    }
   ],
   "source": [
    "header = guns[0]\n",
    "print(header)"
   ]
  },
  {
   "cell_type": "code",
   "execution_count": 91,
   "metadata": {},
   "outputs": [],
   "source": [
    "guns = guns[1:]"
   ]
  },
  {
   "cell_type": "code",
   "execution_count": 92,
   "metadata": {},
   "outputs": [
    {
     "name": "stdout",
     "output_type": "stream",
     "text": [
      "[['1', '2012', '01', 'Suicide', '0', 'M', '34', 'Asian/Pacific Islander', '100', 'Home', '4'], ['2', '2012', '01', 'Suicide', '0', 'F', '21', 'White', '100', 'Street', '3'], ['3', '2012', '01', 'Suicide', '0', 'M', '60', 'White', '100', 'Other specified', '4'], ['4', '2012', '02', 'Suicide', '0', 'M', '64', 'White', '100', 'Home', '4'], ['5', '2012', '02', 'Suicide', '0', 'M', '31', 'White', '100', 'Other specified', '2']]\n"
     ]
    }
   ],
   "source": [
    "print(guns[0:5])"
   ]
  },
  {
   "cell_type": "markdown",
   "metadata": {},
   "source": [
    "### compter le nombre de décès par armes à feu aux USA par année"
   ]
  },
  {
   "cell_type": "code",
   "execution_count": 93,
   "metadata": {},
   "outputs": [],
   "source": [
    "year_counts = {}\n",
    "\n",
    "years = [row[1] for row in guns]\n",
    "\n",
    "for year in years:\n",
    "    if year not in year_counts:\n",
    "        year_counts[year] = 1\n",
    "    year_counts[year] += 1\n"
   ]
  },
  {
   "cell_type": "code",
   "execution_count": 94,
   "metadata": {},
   "outputs": [
    {
     "name": "stdout",
     "output_type": "stream",
     "text": [
      "{'2012': 33564, '2013': 33637, '2014': 33600}\n"
     ]
    }
   ],
   "source": [
    "print(year_counts)"
   ]
  },
  {
   "cell_type": "markdown",
   "metadata": {},
   "source": [
    "### explorer les décès par armes à feu par mois et année"
   ]
  },
  {
   "cell_type": "code",
   "execution_count": 95,
   "metadata": {},
   "outputs": [],
   "source": [
    "import datetime\n",
    "dates = [datetime.datetime(year = int(row[1]), month = int(row[2]), day = 1) for row in guns]"
   ]
  },
  {
   "cell_type": "code",
   "execution_count": 96,
   "metadata": {},
   "outputs": [
    {
     "name": "stdout",
     "output_type": "stream",
     "text": [
      "[datetime.datetime(2012, 1, 1, 0, 0), datetime.datetime(2012, 1, 1, 0, 0), datetime.datetime(2012, 1, 1, 0, 0), datetime.datetime(2012, 2, 1, 0, 0), datetime.datetime(2012, 2, 1, 0, 0), datetime.datetime(2012, 2, 1, 0, 0), datetime.datetime(2012, 2, 1, 0, 0), datetime.datetime(2012, 3, 1, 0, 0), datetime.datetime(2012, 2, 1, 0, 0), datetime.datetime(2012, 2, 1, 0, 0)]\n"
     ]
    }
   ],
   "source": [
    "print (dates[0:10])"
   ]
  },
  {
   "cell_type": "code",
   "execution_count": 97,
   "metadata": {},
   "outputs": [],
   "source": [
    "date_counts = {}\n",
    "for date in dates:   \n",
    "    if date not in date_counts:\n",
    "        date_counts[date] = 1\n",
    "    date_counts[date] += 1"
   ]
  },
  {
   "cell_type": "code",
   "execution_count": 98,
   "metadata": {},
   "outputs": [
    {
     "data": {
      "text/plain": [
       "{datetime.datetime(2012, 1, 1, 0, 0): 2759,\n",
       " datetime.datetime(2012, 2, 1, 0, 0): 2358,\n",
       " datetime.datetime(2012, 3, 1, 0, 0): 2744,\n",
       " datetime.datetime(2012, 4, 1, 0, 0): 2796,\n",
       " datetime.datetime(2012, 5, 1, 0, 0): 3000,\n",
       " datetime.datetime(2012, 6, 1, 0, 0): 2827,\n",
       " datetime.datetime(2012, 7, 1, 0, 0): 3027,\n",
       " datetime.datetime(2012, 8, 1, 0, 0): 2955,\n",
       " datetime.datetime(2012, 9, 1, 0, 0): 2853,\n",
       " datetime.datetime(2012, 10, 1, 0, 0): 2734,\n",
       " datetime.datetime(2012, 11, 1, 0, 0): 2730,\n",
       " datetime.datetime(2012, 12, 1, 0, 0): 2792,\n",
       " datetime.datetime(2013, 1, 1, 0, 0): 2865,\n",
       " datetime.datetime(2013, 2, 1, 0, 0): 2376,\n",
       " datetime.datetime(2013, 3, 1, 0, 0): 2863,\n",
       " datetime.datetime(2013, 4, 1, 0, 0): 2799,\n",
       " datetime.datetime(2013, 5, 1, 0, 0): 2807,\n",
       " datetime.datetime(2013, 6, 1, 0, 0): 2921,\n",
       " datetime.datetime(2013, 7, 1, 0, 0): 3080,\n",
       " datetime.datetime(2013, 8, 1, 0, 0): 2860,\n",
       " datetime.datetime(2013, 9, 1, 0, 0): 2743,\n",
       " datetime.datetime(2013, 10, 1, 0, 0): 2809,\n",
       " datetime.datetime(2013, 11, 1, 0, 0): 2759,\n",
       " datetime.datetime(2013, 12, 1, 0, 0): 2766,\n",
       " datetime.datetime(2014, 1, 1, 0, 0): 2652,\n",
       " datetime.datetime(2014, 2, 1, 0, 0): 2362,\n",
       " datetime.datetime(2014, 3, 1, 0, 0): 2685,\n",
       " datetime.datetime(2014, 4, 1, 0, 0): 2863,\n",
       " datetime.datetime(2014, 5, 1, 0, 0): 2865,\n",
       " datetime.datetime(2014, 6, 1, 0, 0): 2932,\n",
       " datetime.datetime(2014, 7, 1, 0, 0): 2885,\n",
       " datetime.datetime(2014, 8, 1, 0, 0): 2971,\n",
       " datetime.datetime(2014, 9, 1, 0, 0): 2915,\n",
       " datetime.datetime(2014, 10, 1, 0, 0): 2866,\n",
       " datetime.datetime(2014, 11, 1, 0, 0): 2757,\n",
       " datetime.datetime(2014, 12, 1, 0, 0): 2858}"
      ]
     },
     "execution_count": 98,
     "metadata": {},
     "output_type": "execute_result"
    }
   ],
   "source": [
    "date_counts"
   ]
  },
  {
   "cell_type": "markdown",
   "metadata": {},
   "source": [
    "### explorer les décès par arme à feu par origine et par sexe"
   ]
  },
  {
   "cell_type": "code",
   "execution_count": 99,
   "metadata": {},
   "outputs": [],
   "source": [
    "sex_count = {} #5\n",
    "race_count = {} #7\n",
    "\n",
    "for death in guns:\n",
    "    if death[5] not in sex_count:\n",
    "        sex_count[death[5]] = 1\n",
    "    sex_count[death[5]] += 1\n",
    "    \n",
    "for death in guns:\n",
    "    if death[7] not in race_count:\n",
    "        race_count[death[7]] = 1\n",
    "    race_count[death[7]] += 1"
   ]
  },
  {
   "cell_type": "code",
   "execution_count": 100,
   "metadata": {},
   "outputs": [
    {
     "data": {
      "text/plain": [
       "{'M': 86350, 'F': 14450}"
      ]
     },
     "execution_count": 100,
     "metadata": {},
     "output_type": "execute_result"
    }
   ],
   "source": [
    "sex_count"
   ]
  },
  {
   "cell_type": "code",
   "execution_count": 101,
   "metadata": {},
   "outputs": [
    {
     "data": {
      "text/plain": [
       "{'Asian/Pacific Islander': 1327,\n",
       " 'White': 66238,\n",
       " 'Native American/Native Alaskan': 918,\n",
       " 'Black': 23297,\n",
       " 'Hispanic': 9023}"
      ]
     },
     "execution_count": 101,
     "metadata": {},
     "output_type": "execute_result"
    }
   ],
   "source": [
    "race_count"
   ]
  },
  {
   "cell_type": "markdown",
   "metadata": {},
   "source": [
    "### dataset population"
   ]
  },
  {
   "cell_type": "code",
   "execution_count": 102,
   "metadata": {},
   "outputs": [],
   "source": [
    "with open(\"census.csv\",\"r\") as f:\n",
    "    census = list(csv.reader(f))"
   ]
  },
  {
   "cell_type": "code",
   "execution_count": 103,
   "metadata": {},
   "outputs": [
    {
     "data": {
      "text/plain": [
       "[['Id',\n",
       "  'Year',\n",
       "  'Id',\n",
       "  'Sex',\n",
       "  'Id',\n",
       "  'Hispanic Origin',\n",
       "  'Id',\n",
       "  'Id2',\n",
       "  'Geography',\n",
       "  'Total',\n",
       "  'Race Alone - White',\n",
       "  'Race Alone - Hispanic',\n",
       "  'Race Alone - Black or African American',\n",
       "  'Race Alone - American Indian and Alaska Native',\n",
       "  'Race Alone - Asian',\n",
       "  'Race Alone - Native Hawaiian and Other Pacific Islander',\n",
       "  'Two or More Races'],\n",
       " ['cen42010',\n",
       "  'April 1, 2010 Census',\n",
       "  'totsex',\n",
       "  'Both Sexes',\n",
       "  'tothisp',\n",
       "  'Total',\n",
       "  '0100000US',\n",
       "  '',\n",
       "  'United States',\n",
       "  '308745538',\n",
       "  '197318956',\n",
       "  '44618105',\n",
       "  '40250635',\n",
       "  '3739506',\n",
       "  '15159516',\n",
       "  '674625',\n",
       "  '6984195']]"
      ]
     },
     "execution_count": 103,
     "metadata": {},
     "output_type": "execute_result"
    }
   ],
   "source": [
    "census"
   ]
  },
  {
   "cell_type": "markdown",
   "metadata": {},
   "source": [
    "### exploration des ratios de décès en fonction de l'origine"
   ]
  },
  {
   "cell_type": "code",
   "execution_count": 104,
   "metadata": {},
   "outputs": [],
   "source": [
    "mapping = {}\n",
    "mapping[\"Asian/Pacific Islander\"] = int(census[1][14]) + int(census[1][15])\n",
    "mapping[\"Black\"] = int(census[1][12])\n",
    "mapping[\"Hispanic\"] = int(census[1][11])\n",
    "mapping[\"Native American/Native Alaskan\"] = int(census[1][13])\n",
    "mapping[\"White\"] = int(census[1][10])"
   ]
  },
  {
   "cell_type": "code",
   "execution_count": 105,
   "metadata": {},
   "outputs": [
    {
     "data": {
      "text/plain": [
       "{'Asian/Pacific Islander': 15834141,\n",
       " 'Black': 40250635,\n",
       " 'Hispanic': 44618105,\n",
       " 'Native American/Native Alaskan': 3739506,\n",
       " 'White': 197318956}"
      ]
     },
     "execution_count": 105,
     "metadata": {},
     "output_type": "execute_result"
    }
   ],
   "source": [
    "mapping"
   ]
  },
  {
   "cell_type": "code",
   "execution_count": 106,
   "metadata": {},
   "outputs": [],
   "source": [
    "ratio = {}\n",
    "for k, v in race_count.items():\n",
    "    ratio[k] = v / mapping[k] * 100000"
   ]
  },
  {
   "cell_type": "code",
   "execution_count": 107,
   "metadata": {},
   "outputs": [
    {
     "data": {
      "text/plain": [
       "{'Asian/Pacific Islander': 8.380625131480135,\n",
       " 'White': 33.568999827872595,\n",
       " 'Native American/Native Alaskan': 24.548697073891578,\n",
       " 'Black': 57.87983220637389,\n",
       " 'Hispanic': 20.222732453563413}"
      ]
     },
     "execution_count": 107,
     "metadata": {},
     "output_type": "execute_result"
    }
   ],
   "source": [
    "ratio"
   ]
  },
  {
   "cell_type": "markdown",
   "metadata": {},
   "source": [
    "### filtrer par homicide"
   ]
  },
  {
   "cell_type": "code",
   "execution_count": 108,
   "metadata": {},
   "outputs": [],
   "source": [
    "intents = [row[3] for row in guns]\n",
    "races = [row[7] for row in guns]\n",
    "\n",
    "homicide_counts = {}\n",
    "\n"
   ]
  },
  {
   "cell_type": "code",
   "execution_count": 109,
   "metadata": {},
   "outputs": [
    {
     "name": "stdout",
     "output_type": "stream",
     "text": [
      "{'Undetermined', 'Suicide', 'NA', 'Homicide', 'Accidental'}\n"
     ]
    }
   ],
   "source": [
    "print(set(intents))"
   ]
  },
  {
   "cell_type": "code",
   "execution_count": 110,
   "metadata": {},
   "outputs": [],
   "source": [
    "for i, race in enumerate(races):\n",
    "    if race not in homicide_counts:\n",
    "        homicide_counts[race] = 0\n",
    "    if intents[i] == \"Homicide\":\n",
    "        homicide_counts[race] += 1    "
   ]
  },
  {
   "cell_type": "code",
   "execution_count": 111,
   "metadata": {},
   "outputs": [
    {
     "data": {
      "text/plain": [
       "{'Asian/Pacific Islander': 559,\n",
       " 'White': 9147,\n",
       " 'Native American/Native Alaskan': 326,\n",
       " 'Black': 19510,\n",
       " 'Hispanic': 5634}"
      ]
     },
     "execution_count": 111,
     "metadata": {},
     "output_type": "execute_result"
    }
   ],
   "source": [
    "homicide_counts"
   ]
  },
  {
   "cell_type": "code",
   "execution_count": 112,
   "metadata": {},
   "outputs": [],
   "source": [
    "ratio_homicide = {}\n",
    "\n",
    "for k, v in homicide_counts.items():\n",
    "    ratio_homicide[k] = v / mapping[k] * 100000"
   ]
  },
  {
   "cell_type": "code",
   "execution_count": 113,
   "metadata": {},
   "outputs": [
    {
     "data": {
      "text/plain": [
       "{'Asian/Pacific Islander': 3.530346230970155,\n",
       " 'White': 4.6356417981453335,\n",
       " 'Native American/Native Alaskan': 8.717729026240365,\n",
       " 'Black': 48.471284987180944,\n",
       " 'Hispanic': 12.627161104219914}"
      ]
     },
     "execution_count": 113,
     "metadata": {},
     "output_type": "execute_result"
    }
   ],
   "source": [
    "ratio_homicide"
   ]
  },
  {
   "cell_type": "code",
   "execution_count": null,
   "metadata": {},
   "outputs": [],
   "source": []
  },
  {
   "cell_type": "code",
   "execution_count": null,
   "metadata": {},
   "outputs": [],
   "source": []
  }
 ],
 "metadata": {
  "kernelspec": {
   "display_name": "Python 3",
   "language": "python",
   "name": "python3"
  },
  "language_info": {
   "codemirror_mode": {
    "name": "ipython",
    "version": 3
   },
   "file_extension": ".py",
   "mimetype": "text/x-python",
   "name": "python",
   "nbconvert_exporter": "python",
   "pygments_lexer": "ipython3",
   "version": "3.8.5"
  }
 },
 "nbformat": 4,
 "nbformat_minor": 4
}
