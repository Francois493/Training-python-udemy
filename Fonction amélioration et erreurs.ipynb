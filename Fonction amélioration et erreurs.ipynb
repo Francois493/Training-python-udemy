{
 "cells": [
  {
   "cell_type": "code",
   "execution_count": 1,
   "metadata": {},
   "outputs": [],
   "source": [
    "vocabulary = open(\"dictionnaire.txt\",\"r\",encoding=\"utf-8\").read()\n",
    "tokenized_vocabulary = vocabulary.split(\" \")\n",
    "text_string = open(\"texte.txt\",\"r\",encoding=\"utf-8\").read()\n",
    "\n"
   ]
  },
  {
   "cell_type": "code",
   "execution_count": 2,
   "metadata": {},
   "outputs": [],
   "source": [
    "def modify_text(text_string, modify_string, replacement_string):\n",
    "    cleaned_string = text_string\n",
    "    for i in modify_string:  # on parcours l'ensemble des éléments à modifier\n",
    "        cleaned_string = cleaned_string.replace(i, replacement_string)\n",
    "    cleaned_string = cleaned_string.lower()\n",
    "    return(cleaned_string)"
   ]
  },
  {
   "cell_type": "code",
   "execution_count": 7,
   "metadata": {},
   "outputs": [],
   "source": [
    "def tokenize(string, modify_caracters, replacement_string, clean = False):\n",
    "    cleaned_text = string\n",
    "    if clean:\n",
    "        cleaned_text = modify_text(string, modify_caracters, replacement_string)\n",
    "    text_tokens = cleaned_text.split(\" \")\n",
    "    return(text_tokens)"
   ]
  },
  {
   "cell_type": "code",
   "execution_count": 10,
   "metadata": {},
   "outputs": [
    {
     "name": "stdout",
     "output_type": "stream",
     "text": [
      "['en', 'termes', 'généraux', 'la', 'scence', 'des', 'données', 'est', 'lextraction', 'de']\n"
     ]
    }
   ],
   "source": [
    "tokenized_text = tokenize( text_string, [\",\",\".\",\"'\",\"\\n\"], \"\", True)\n",
    "print(tokenized_text[0:10])"
   ]
  },
  {
   "cell_type": "code",
   "execution_count": 24,
   "metadata": {},
   "outputs": [],
   "source": [
    "def spell_check(vocabulary_file, text_file, special_characters, replacement_string):\n",
    "    missepelled_words = []\n",
    "    vocabulary = open(vocabulary_file, \"r\", encoding = \"utf-8\").read()\n",
    "    text = open(text_file, \"r\", encoding = \"utf-8\").read()\n",
    "    \n",
    "    tokenized_vocab = tokenize(vocabulary, special_characters, replacement_string)\n",
    "    tokenized_text = tokenize(text, special_characters, replacement_string, True)\n",
    "    \n",
    "    for word in tokenized_text:\n",
    "        if word not in tokenized_vocab and word != \"\":\n",
    "            missepelled_words.append(word)\n",
    "    return(missepelled_words)"
   ]
  },
  {
   "cell_type": "code",
   "execution_count": 25,
   "metadata": {},
   "outputs": [
    {
     "name": "stdout",
     "output_type": "stream",
     "text": [
      "['scence', 'conaissance', 'téorie', 'statistiqe', 'stokage', 'dicipline', 'come']\n"
     ]
    }
   ],
   "source": [
    "final_misspelled_words = spell_check(\"dictionnaire.txt\", \"texte.txt\", [\",\",\".\",\"'\",\"\\n\"], \"\")\n",
    "print(final_misspelled_words)"
   ]
  },
  {
   "cell_type": "code",
   "execution_count": null,
   "metadata": {},
   "outputs": [],
   "source": []
  }
 ],
 "metadata": {
  "kernelspec": {
   "display_name": "Python 3",
   "language": "python",
   "name": "python3"
  },
  "language_info": {
   "codemirror_mode": {
    "name": "ipython",
    "version": 3
   },
   "file_extension": ".py",
   "mimetype": "text/x-python",
   "name": "python",
   "nbconvert_exporter": "python",
   "pygments_lexer": "ipython3",
   "version": "3.8.5"
  }
 },
 "nbformat": 4,
 "nbformat_minor": 4
}
