{
 "cells": [
  {
   "cell_type": "code",
   "execution_count": 1,
   "metadata": {},
   "outputs": [],
   "source": [
    "strings = [\"but\", \"batte\", \"robotique\"]\n",
    "regex = \"b.t\""
   ]
  },
  {
   "cell_type": "code",
   "execution_count": 2,
   "metadata": {},
   "outputs": [],
   "source": [
    "strings = [\"il est sur le feu\", \"fou\"]\n",
    "bad_string = [\"un feu de paille\"]\n",
    "\n",
    "regex = \"f.u$\""
   ]
  },
  {
   "cell_type": "code",
   "execution_count": 8,
   "metadata": {},
   "outputs": [
    {
     "data": {
      "text/plain": [
       "[['Title', 'Score', 'Time', 'Gold', 'NumComs'],\n",
       " ['What\\'s your internet \"white whale\", something you\\'ve been searching for years to find with no luck?',\n",
       "  '11510',\n",
       "  '1433213314.0',\n",
       "  '1',\n",
       "  '26195'],\n",
       " [\"What's your favorite video that is 10 seconds or less?\",\n",
       "  '8656',\n",
       "  '1434205517.0',\n",
       "  '4',\n",
       "  '8479'],\n",
       " ['What are some interesting tests you can take to find out about yourself?',\n",
       "  '8480',\n",
       "  '1443409636.0',\n",
       "  '1',\n",
       "  '4055'],\n",
       " [\"PhD's of Reddit. What is a dumbed down summary of your thesis?\",\n",
       "  '7927',\n",
       "  '1440188623.0',\n",
       "  '0',\n",
       "  '13201']]"
      ]
     },
     "execution_count": 8,
     "metadata": {},
     "output_type": "execute_result"
    }
   ],
   "source": [
    "import csv\n",
    "f = open(\"askreddit_2015.csv\",encoding = 'utf-8')\n",
    "posts = list(csv.reader(f))\n",
    "posts[0:5]\n"
   ]
  },
  {
   "cell_type": "code",
   "execution_count": 9,
   "metadata": {},
   "outputs": [],
   "source": [
    "posts = posts[1:]"
   ]
  },
  {
   "cell_type": "code",
   "execution_count": 10,
   "metadata": {},
   "outputs": [
    {
     "name": "stdout",
     "output_type": "stream",
     "text": [
      "['What\\'s your internet \"white whale\", something you\\'ve been searching for years to find with no luck?', '11510', '1433213314.0', '1', '26195']\n",
      "[\"What's your favorite video that is 10 seconds or less?\", '8656', '1434205517.0', '4', '8479']\n",
      "['What are some interesting tests you can take to find out about yourself?', '8480', '1443409636.0', '1', '4055']\n",
      "[\"PhD's of Reddit. What is a dumbed down summary of your thesis?\", '7927', '1440188623.0', '0', '13201']\n",
      "['What is cool to be good at, yet uncool to be REALLY good at?', '7711', '1440082910.0', '0', '20325']\n",
      "['[Serious] Redditors currently in a relationship, besides dinner and a movie, what are your favorite activities for date night?', '7598', '1439993280.0', '2', '5389']\n",
      "[\"Parents of Reddit, what's something that your kid has done that you pretended to be angry about but secretly impressed or amused you?\", '7553', '1439161809.0', '0', '11520']\n",
      "['What is a good subreddit to binge read the All Time Top Posts of?', '7498', '1438822288.0', '0', '2780']\n",
      "['What would the person who named Walkie Talkies have named other items?', '7501', '1447904351.0', '4', '6720']\n",
      "[\"People who grew up in a different socioeconomic class as your significant others, what are the notable differences you've noticed and how does it affect your relationship (if at all)?\", '7419', '1440358069.0', '0', '8603']\n"
     ]
    }
   ],
   "source": [
    "for post in posts[:10]:\n",
    "    print(post)"
   ]
  },
  {
   "cell_type": "code",
   "execution_count": 11,
   "metadata": {},
   "outputs": [
    {
     "name": "stdout",
     "output_type": "stream",
     "text": [
      "76\n"
     ]
    }
   ],
   "source": [
    "import re\n",
    "\n",
    "of_reddit_count = 0\n",
    "\n",
    "for row in posts:\n",
    "    if re.search(\"of Reddit\", row[0]) is not None:\n",
    "        of_reddit_count += 1\n",
    "        \n",
    "print(of_reddit_count)"
   ]
  },
  {
   "cell_type": "markdown",
   "metadata": {},
   "source": [
    "### crochet pour matcher plusieurs lettres"
   ]
  },
  {
   "cell_type": "code",
   "execution_count": 12,
   "metadata": {},
   "outputs": [
    {
     "name": "stdout",
     "output_type": "stream",
     "text": [
      "102\n"
     ]
    }
   ],
   "source": [
    "of_reddit_count = 0\n",
    "\n",
    "for row in posts:\n",
    "    if re.search(\"of [Rr]eddit\", row[0]) is not None:\n",
    "        of_reddit_count += 1\n",
    "        \n",
    "print(of_reddit_count)"
   ]
  },
  {
   "cell_type": "markdown",
   "metadata": {},
   "source": [
    "### ignorer des caractères spéciaux"
   ]
  },
  {
   "cell_type": "code",
   "execution_count": 16,
   "metadata": {},
   "outputs": [
    {
     "name": "stdout",
     "output_type": "stream",
     "text": [
      "80\n"
     ]
    }
   ],
   "source": [
    "serious_count = 0\n",
    "\n",
    "for row in posts:\n",
    "    if re.search(\"[\\[\\()][Ss]erious[\\]\\)]\", row[0]) is not None:\n",
    "        serious_count += 1 \n",
    "        \n",
    "print(serious_count)"
   ]
  },
  {
   "cell_type": "markdown",
   "metadata": {},
   "source": [
    "### combiner plusieurs regex"
   ]
  },
  {
   "cell_type": "code",
   "execution_count": 26,
   "metadata": {},
   "outputs": [
    {
     "name": "stdout",
     "output_type": "stream",
     "text": [
      "T'es le plus fort!\n"
     ]
    }
   ],
   "source": [
    "# ^\n",
    "# $ \n",
    "# |\n",
    "\n",
    "serious_start_count = 0\n",
    "serious_end_count = 0\n",
    "serious_count_final = 0\n",
    "\n",
    "for row in posts:\n",
    "    if re.search(\"^[\\[\\()][Ss]erious[\\]\\)]\", row[0]) is not None:\n",
    "        serious_start_count += 1\n",
    "    if re.search(\"[\\[\\()][Ss]erious[\\]\\)]$\", row[0]) is not None:\n",
    "        serious_end_count += 1\n",
    "    if re.search(\"^[\\[\\()][Ss]erious[\\]\\)]|[\\[\\()][Ss]erious[\\]\\)]$\", row[0]) is not None:\n",
    "        serious_count_final += 1\n",
    "        \n",
    "if serious_count_final != serious_start_count + serious_end_count:\n",
    "    print(\"T'es nul\")\n",
    "else:\n",
    "    print(\"T'es le plus fort!\")"
   ]
  },
  {
   "cell_type": "markdown",
   "metadata": {},
   "source": [
    "### Modifier des string avec regex"
   ]
  },
  {
   "cell_type": "code",
   "execution_count": 30,
   "metadata": {},
   "outputs": [],
   "source": [
    "posts_new = []\n",
    "for row in posts:\n",
    "    row[0] = re.sub(\"[\\[\\()][Ss]erious[\\]\\)]\", \"[Serious]\", row[0])\n",
    "    posts_new.append(row)"
   ]
  },
  {
   "cell_type": "code",
   "execution_count": 35,
   "metadata": {},
   "outputs": [
    {
     "name": "stdout",
     "output_type": "stream",
     "text": [
      "[['What\\'s your internet \"white whale\", something you\\'ve been searching for years to find with no luck?', '11510', '1433213314.0', '1', '26195'], [\"What's your favorite video that is 10 seconds or less?\", '8656', '1434205517.0', '4', '8479'], ['What are some interesting tests you can take to find out about yourself?', '8480', '1443409636.0', '1', '4055'], [\"PhD's of Reddit. What is a dumbed down summary of your thesis?\", '7927', '1440188623.0', '0', '13201'], ['What is cool to be good at, yet uncool to be REALLY good at?', '7711', '1440082910.0', '0', '20325'], ['[Serious] Redditors currently in a relationship, besides dinner and a movie, what are your favorite activities for date night?', '7598', '1439993280.0', '2', '5389'], [\"Parents of Reddit, what's something that your kid has done that you pretended to be angry about but secretly impressed or amused you?\", '7553', '1439161809.0', '0', '11520'], ['What is a good subreddit to binge read the All Time Top Posts of?', '7498', '1438822288.0', '0', '2780'], ['What would the person who named Walkie Talkies have named other items?', '7501', '1447904351.0', '4', '6720'], [\"People who grew up in a different socioeconomic class as your significant others, what are the notable differences you've noticed and how does it affect your relationship (if at all)?\", '7419', '1440358069.0', '0', '8603'], ['What are the best YouTube channels to binge watch ?', '7311', '1448550352.0', '0', '10306'], [\"What website could you recommend that most probably haven't heard of?\", '7192', '1436444823.0', '0', '10336'], ['[Serious] At the end of a job interview when they ask me, \"So, do you have any questions?\", what are some genuinely good questions to ask?', '7133', '1431063658.0', '1', '5850'], ['What do insanely poor people buy, that ordinary people know nothing about?', '6850', '1421181185.0', '2', '21559'], ['Announcing a small contest to promote originality', '6796', '1426377669.0', '1', '1348'], ['What small websites do more people need to be aware of?', '6784', '1423497852.0', '0', '4131'], ['What is that one trick that \"they\" really don\\'t want you to know? [Serious]', '6701', '1444844927.0', '0', '17724'], [\"Who is the scariest person you've ever met?\", '6689', '1439520757.0', '0', '9234'], ['What was your \"I don\\'t get paid enough for this shit\" moment?', '6596', '1439947180.0', '0', '11815'], ['What gets weirder and weirder the more you think about it?', '6538', '1439545860.0', '1', '12762'], ['[Serious] Redditors who want Trump to become president, why?', '6526', '1439138685.0', '0', '14580'], [\"What's your favourite movie that most of us wouldn't have even ever heard of?\", '6472', '1439899943.0', '0', '19050'], ['[Serious] People of Reddit who have HIV/AIDS, when did you realize something was wrong?', '6472', '1439213819.0', '0', '4296'], ['What cities ARE worth visiting?', '6451', '1439291187.0', '0', '16953'], [\"People who lived in Compton in the mid to late 80's, was it really as it is depicted by N.W.A? What are some crazy things that you witnessed?\", '6410', '1440564883.0', '0', '4515'], ['What small websites do you visit?', '6400', '1440020488.0', '1', '4731'], ['[Serious] What are some great apps for smartphones that people might not be aware of?', '6346', '1443887658.0', '0', '7833'], [\"What fact or statistic seems like obvious exaggeration, but isn't?\", '6320', '1448885731.0', '0', '23159'], ['Reddit, what was your \"It\\'s totally not a phase, mom/dad!\" that ended up being just a phase?', '6271', '1439906197.0', '0', '14115'], ['If your life depended on getting someone to laugh, which youtube video would you show them?', '6267', '1422612478.0', '1', '6023'], ['What are the best text-based subreddits to kill time reading?', '6210', '1445251377.0', '0', '2477'], ['What was the first event that disproved your childhood belief that the world is a safe place?', '6192', '1439642253.0', '0', '10824'], [\"What's the cleanest, least offensive, funniest joke you know?\", '6162', '1439568880.0', '0', '4692'], ['If you could send an anonymous text to yourself 5 years ago, what would you write?', '6109', '1439985692.0', '0', '13735'], ['Redditors who have met a former crush years later, how did it turn out?', '6110', '1439735429.0', '0', '8530'], ['What are the best computer hackers able to do right now that most people are unaware of?', '6113', '1449128988.0', '0', '8267'], ['What is a short (<1min) video that always cracks you up?', '6073', '1445810268.0', '0', '9164'], ['REMINDER: Only the dark side posts spoilers without a spoiler tag. Please, use the spoiler tag!', '6089', '1450212277.0', '0', '1058'], ['[Serious] people who have twin siblings but are not a twin themselves, how is your relationship with your twin brothers or sisters?', '6050', '1439856706.0', '0', '3110'], ['[Serious] Therapists/psychiatrists of reddit: what is something that most people think they are alone in experiencing/feeling/thinking?', '6045', '1447844725.0', '2', '7019'], ['How would you go about making an extra $500 a month (outside of your normal salary)?', '6046', '1441194071.0', '1', '16944'], ['What is the scariest *real* organization in the world?', '6019', '1446583374.0', '1', '14091'], ['What was your biggest \"shit, my parents were right\" moment?', '6007', '1446384482.0', '0', '18033'], [\"Reddit, What lesser known Apps can't you live without?\", '5988', '1432728287.0', '2', '13726'], [\"[Serious] What's the creepiest TRUE story that happened to you or someone you know?\", '5982', '1439744268.0', '0', '8358'], ['How do you subtly fuck with people?', '5978', '1438996121.0', '0', '9304'], ['What is a cool qualification that you can easily get?', '5972', '1431453813.0', '0', '6381'], [\"What's considered trashy if you're poor, but classy if you're rich?\", '5951', '1443233511.0', '0', '8182'], ['If all of a sudden all humans simultaneously lost the ability to sneeze, how long do you think it would take mankind as a collective to realize?', '5943', '1423787549.0', '7', '4427'], ['Teachers of reddit, what is the greatest way a student has misinterpreted one of your assignments?', '5937', '1447697520.0', '0', '10289'], [\"Fathers of Reddit, what did your daughter's boyfriend do for you to hate/love him?\", '5924', '1440582629.0', '0', '9878'], [\"Redditors who spend a lot of time in seclusion (at sea, in the air or out in the wilderness) what's the creepiest or most mysterious thing you've seen, found or experienced?\", '5922', '1444699740.0', '1', '15873'], ['What is the best game to play in a web browser?', '5903', '1429904281.0', '1', '8812'], ['What should not be considered OK, but is often encouraged?', '5878', '1440154625.0', '0', '18115'], ['People who live near famous tourist destinations, what is something the average person should know?', '5867', '1438276265.0', '0', '25806'], ['What is your go-to random fact?', '5860', '1436984888.0', '0', '14637'], [\"What's the most calculated thing you've ever seen an animal do?\", '5872', '1448910548.0', '1', '8094'], ['How do you subtly fuck with people?', '5829', '1421966837.0', '1', '15419'], ['What mobile app has actually had a legitimate positive impact on your life?', '5831', '1449174161.0', '0', '10961'], [\"Commercial airplane pilots, what's the closest disaster you've averted while on a flight that the passengers had no idea about? How often do these things happen?\", '5799', '1440418465.0', '0', '4947'], ['What items would be inside a Second Aid Kit?', '5796', '1439338307.0', '0', '2900'], [\"What's a short, clean joke that gets a laugh every time?\", '5779', '1426597584.0', '2', '12007'], ['Who ruined something as thoroughly as Hitler ruined the toothbrush moustache?', '5783', '1442166787.0', '0', '12134'], ['What movie do you quote/reference the most?', '5767', '1438871651.0', '0', '17507'], ['If Dr. Seuss was a real doctor, what would his diagnoses sound like?', '5767', '1440330433.0', '0', '1658'], ['What food is not as bad for you as most people believe?', '5755', '1439809974.0', '0', '12801'], [\"What is the smallest lie you've ever told which had the biggest consequences?\", '5750', '1447943291.0', '0', '7011'], ['What was the biggest bluff in history?', '5725', '1435489814.0', '1', '8625'], ['What is never going to stop being funny?', '5733', '1441137267.0', '0', '12692'], ['Parent of a \"weird kid\", how did you react when you realized that your kid did weird/creepy stuff?', '5720', '1440515374.0', '0', '5997'], ['What piece of stand up comedy (10 minutes or less) has successfully made you cry with laughter?', '5700', '1437140705.0', '0', '5581'], ['What was the worst PR move in history?', '5700', '1436280395.0', '0', '14338'], ['Which song is most improved when all occurrences of \"I,\" \"me,\" \"my,\" etc. are replaced with \"Greg\"?', '5687', '1444838170.0', '6', '11183'], [\"What are common signs of not having one's shit together?\", '5687', '1449534179.0', '0', '13807'], [\"What's a good date other than dinner and a movie?\", '5681', '1450384351.0', '0', '9451'], ['What is a phrase that makes you instantly dislike someone strongly?', '5632', '1439304421.0', '0', '24533'], ['What would be a funny thing to say to a surgeon before anesthesia kicks in 5 seconds later?', '5618', '1444926824.0', '1', '8778'], ['Women who use tinder, what are you actually looking for?', '5602', '1439469826.0', '0', '11618'], ['What was supposed to be \"The Next Big Thing\" but ended up becoming a flop?', '5595', '1440601949.0', '0', '16022'], ['What is your favourite educational/informative YouTube channel?', '5588', '1441267828.0', '0', '4591'], ['whats a good mind fuck movie to watch?', '5584', '1420325488.0', '0', '15760'], ['Collectors and hobbyists, what is the \"holy grail\" item to find related to your interests?', '5593', '1450643873.0', '0', '11125'], [\"What are some great phone apps/games that don't require data or wifi network to use?\", '5567', '1444382721.0', '1', '3818'], ['What is a non-racist, non-sexist, and non \"hateful\" opinion you have that would make people dislike you?', '5550', '1438948041.0', '1', '58822'], ['Dear reddit people, what is a good/healthy hobby to start for someone with depression?', '5546', '1445851762.0', '1', '9272'], [\"You're given immortality but as a cost you are sent back 3000 years - would you accept and what would you do?\", '5551', '1433125478.0', '0', '7789'], ['What should\\'ve been \"just a fad\" but never ended?', '5547', '1446865269.0', '0', '20180'], [\"Emos of the early 2000's, what are you guys doing now?\", '5558', '1449277489.0', '1', '11336'], [\"What's a reason an actor or actress has been written out of a tv show that I probably did not know about?\", '5499', '1425781168.0', '0', '14080'], ['What false facts are thought as real ones because of film industry?', '5494', '1442575664.0', '0', '23614'], ['[Serious] Redditors who want Bernie Sanders to become president, why?', '5459', '1439177506.0', '0', '5218'], ['What LEGAL thing are you addicted to?', '5453', '1440240396.0', '0', '12391'], [\"Who is the best example of someone that you're not sure if they are a complete idiot or a genius?\", '5441', '1437565199.0', '0', '13251'], ['What is a sub-$100 gadget that everyone needs but few people may already have?', '5437', '1448027605.0', '0', '12607'], [\"What's the biggest lie the internet has created?\", '5426', '1448373127.0', '1', '8938'], [\"What did people believe in the 1990's that we no longer believe today?\", '5431', '1434569124.0', '0', '18628'], ['What bot accounts on reddit should people know about?', '5426', '1430286166.0', '7', '34680'], ['Reddit, What are some lesser known or niche sites you visit religiously?', '5419', '1432219394.0', '1', '5623'], [\"What is something that genuinely bothers you, but you never complain about because you'd seem like an asshole?\", '5419', '1447426615.0', '0', '19133'], ['What’s a computer trick you think everyone should know?', '5419', '1448446016.0', '0', '11246']]\n"
     ]
    }
   ],
   "source": [
    "print(posts_new[0:100])"
   ]
  },
  {
   "cell_type": "markdown",
   "metadata": {},
   "source": [
    "### matcher les années avec regex"
   ]
  },
  {
   "cell_type": "code",
   "execution_count": 33,
   "metadata": {},
   "outputs": [],
   "source": [
    "# [0-9]\n",
    "# [a-z]\n",
    "\n",
    "# année [1-2][0-9][0-9][0-9] ou [1-2][0-9]{3}"
   ]
  },
  {
   "cell_type": "markdown",
   "metadata": {},
   "source": [
    "### findall()"
   ]
  },
  {
   "cell_type": "code",
   "execution_count": 36,
   "metadata": {},
   "outputs": [],
   "source": [
    "years = []\n",
    "for row in posts:\n",
    "    year = re.findall(\"[1-2][0-9]{3}\",row[0])\n",
    "    years.append(year)"
   ]
  },
  {
   "cell_type": "code",
   "execution_count": 37,
   "metadata": {},
   "outputs": [
    {
     "name": "stdout",
     "output_type": "stream",
     "text": [
      "[[], [], [], [], [], [], [], [], [], [], [], [], [], [], [], [], [], [], [], [], [], [], [], [], [], [], [], [], [], [], [], [], [], [], [], [], [], [], [], [], [], [], [], [], [], [], [], [], [], [], [], [], [], [], [], [], [], [], [], [], [], [], [], [], [], [], [], [], [], [], [], [], [], [], [], [], [], [], [], [], [], [], [], [], [], [], [], ['2000'], [], [], [], [], [], [], [], ['1990'], [], [], [], [], [], [], [], [], [], [], [], [], [], [], [], [], [], [], [], [], [], [], [], [], [], [], [], [], [], [], ['2015'], [], [], [], [], [], [], [], [], [], [], [], [], [], [], [], [], [], [], [], [], [], [], [], [], [], [], [], [], [], [], [], [], [], [], [], [], [], [], [], [], [], [], [], [], [], [], [], [], [], [], [], [], [], [], [], [], [], [], [], [], [], [], [], [], [], [], [], [], [], [], [], [], [], [], [], [], [], [], ['2014'], [], [], [], [], [], [], [], [], [], [], [], [], [], ['1000'], [], [], [], [], [], [], [], [], [], [], [], [], [], [], [], [], [], [], [], [], [], [], [], [], [], [], [], [], [], [], [], [], [], [], [], [], [], [], [], [], [], [], ['1500', '2015'], [], [], [], [], [], [], [], [], [], [], [], [], [], [], [], [], ['2015'], [], [], [], [], [], [], [], [], [], [], [], [], [], [], [], [], [], [], [], [], [], [], [], [], [], ['2016'], [], [], [], [], [], [], [], [], [], [], [], [], [], [], [], [], [], [], [], [], [], [], [], [], [], [], [], [], [], [], [], [], [], [], [], [], [], [], [], [], [], [], [], [], [], [], [], [], [], [], [], [], [], [], [], [], [], [], [], [], [], [], [], [], [], [], [], [], [], [], [], [], [], [], [], ['1000'], [], [], [], [], [], [], [], [], [], [], [], [], [], [], [], [], [], [], [], [], [], [], [], [], [], [], [], [], [], [], [], [], [], [], [], [], [], [], [], [], [], [], [], [], [], [], [], [], [], [], [], [], [], [], [], [], [], [], [], [], [], [], [], [], [], [], [], [], [], [], [], [], [], [], [], [], [], [], ['2016'], [], [], [], [], [], [], [], [], [], [], [], [], [], [], [], [], [], [], [], [], [], [], [], [], [], [], [], [], [], [], [], [], [], [], [], [], [], [], [], [], [], [], [], [], [], [], [], ['2115'], [], [], [], [], [], [], [], [], [], [], [], [], [], [], [], [], [], [], [], [], [], [], [], [], [], [], [], [], [], [], [], [], [], [], [], [], [], [], [], [], [], [], [], [], [], [], [], [], [], [], [], [], [], [], [], [], [], [], [], [], [], [], [], [], [], [], [], [], [], [], [], [], [], [], [], [], [], [], [], [], [], [], [], [], [], [], [], [], [], [], [], [], [], [], [], [], [], [], [], [], ['1000'], [], [], [], [], [], [], [], [], [], [], [], [], [], [], [], [], [], [], [], [], [], [], [], [], [], [], [], [], [], [], [], [], [], [], [], [], [], [], [], [], [], [], [], [], [], [], [], [], [], [], [], [], [], [], [], [], [], [], [], [], [], [], [], [], [], [], [], [], ['2015'], [], [], [], [], [], [], [], [], [], [], [], [], [], [], [], [], [], [], [], [], [], [], [], [], [], [], [], [], ['2014'], [], [], [], [], [], [], [], [], ['1000'], [], [], [], [], [], [], [], [], [], [], [], [], [], [], [], [], [], [], [], [], [], [], [], [], [], [], [], [], [], [], [], [], [], [], [], [], [], [], [], [], [], [], [], [], [], [], [], [], [], [], [], [], [], [], [], [], [], [], [], [], [], [], [], [], [], [], [], [], [], [], [], [], [], [], [], [], [], [], [], [], [], [], [], [], [], [], [], [], [], [], [], [], [], [], [], [], [], [], [], [], [], [], ['2001'], [], [], [], [], [], [], [], [], [], [], [], [], [], [], [], [], [], [], [], [], [], [], [], [], [], [], [], [], [], [], [], [], [], [], [], [], [], [], [], [], [], [], [], [], [], [], []]\n"
     ]
    }
   ],
   "source": [
    "print(years)"
   ]
  },
  {
   "cell_type": "code",
   "execution_count": null,
   "metadata": {},
   "outputs": [],
   "source": []
  }
 ],
 "metadata": {
  "kernelspec": {
   "display_name": "Python 3",
   "language": "python",
   "name": "python3"
  },
  "language_info": {
   "codemirror_mode": {
    "name": "ipython",
    "version": 3
   },
   "file_extension": ".py",
   "mimetype": "text/x-python",
   "name": "python",
   "nbconvert_exporter": "python",
   "pygments_lexer": "ipython3",
   "version": "3.8.5"
  }
 },
 "nbformat": 4,
 "nbformat_minor": 4
}
