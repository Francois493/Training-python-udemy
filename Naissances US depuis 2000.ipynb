{
 "cells": [
  {
   "cell_type": "code",
   "execution_count": 8,
   "metadata": {},
   "outputs": [
    {
     "name": "stdout",
     "output_type": "stream",
     "text": [
      "[[2000, 1, 1, 6, 9083], [2000, 1, 2, 7, 8006], [2000, 1, 3, 1, 11363], [2000, 1, 4, 2, 13032], [2000, 1, 5, 3, 12558], [2000, 1, 6, 4, 12466], [2000, 1, 7, 5, 12516], [2000, 1, 8, 6, 8934], [2000, 1, 9, 7, 7949], [2000, 1, 10, 1, 11668]]\n"
     ]
    }
   ],
   "source": [
    "def read_csv(file):\n",
    "    birth = open(file,\"r\").read()\n",
    "    rows = birth.split(\"\\n\")\n",
    "    rows = rows[1:]\n",
    "\n",
    "    final_list = []\n",
    "    for row in rows:\n",
    "        int_fields = []\n",
    "        string_fields = row.split(\",\")\n",
    "        for row in string_fields:\n",
    "            int_fields.append(int(row))\n",
    "        final_list.append(int_fields)\n",
    "    return(final_list)\n",
    "    \n",
    "\n",
    "us_birth_list = read_csv(\"US_births_2000-2014.csv\")\n",
    "print(us_birth_list[0:10])"
   ]
  },
  {
   "cell_type": "code",
   "execution_count": 20,
   "metadata": {},
   "outputs": [],
   "source": [
    "def month_births(data):\n",
    "    dictionnary = {}\n",
    "    for i in data:\n",
    "        if i[1] in dictionnary:\n",
    "            dictionnary[i[1]] += i[4]\n",
    "        else:\n",
    "            dictionnary[i[1]] = i[4]\n",
    "    return(dictionnary)\n",
    "\n",
    "def day_births(data):\n",
    "    dictionnary = {}\n",
    "    for i in data:\n",
    "        if i[3] in dictionnary:\n",
    "            dictionnary[i[3]] += i[4]\n",
    "        else:\n",
    "            dictionnary[i[3]] = i[4]\n",
    "    return(dictionnary)\n",
    "\n",
    "def calc_counts(data, column):\n",
    "    dictionnary = {}\n",
    "    for i in data:\n",
    "        if i[column] in dictionnary:\n",
    "            dictionnary[i[column]] += i[4]\n",
    "        else:\n",
    "            dictionnary[i[column]] = i[4]\n",
    "    return(dictionnary)"
   ]
  },
  {
   "cell_type": "code",
   "execution_count": 22,
   "metadata": {},
   "outputs": [
    {
     "name": "stdout",
     "output_type": "stream",
     "text": [
      "{1: 5072588, 2: 4725693, 3: 5172961, 4: 4960750, 5: 5195445, 6: 5163360, 7: 5450418, 8: 5540170, 9: 5399592, 10: 5302865, 11: 5008750, 12: 5194432}\n",
      "{6: 6704495, 7: 5886889, 1: 9316001, 2: 10274874, 3: 10109130, 4: 10045436, 5: 9850199}\n",
      "{2000: 4149598, 2001: 4110963, 2002: 4099313, 2003: 4163060, 2004: 4186863, 2005: 4211941, 2006: 4335154, 2007: 4380784, 2008: 4310737, 2009: 4190991, 2010: 4055975, 2011: 4006908, 2012: 4000868, 2013: 3973337, 2014: 4010532}\n"
     ]
    }
   ],
   "source": [
    "us_month_birth = month_births(us_birth_list)\n",
    "print(us_month_birth)\n",
    "\n",
    "us_days_birth = day_births(us_birth_list)\n",
    "print(us_days_birth)\n",
    "\n",
    "us_year_births = calc_counts(us_birth_list, 0)\n",
    "print(us_year_births)"
   ]
  },
  {
   "cell_type": "code",
   "execution_count": null,
   "metadata": {},
   "outputs": [],
   "source": []
  }
 ],
 "metadata": {
  "kernelspec": {
   "display_name": "Python 3",
   "language": "python",
   "name": "python3"
  },
  "language_info": {
   "codemirror_mode": {
    "name": "ipython",
    "version": 3
   },
   "file_extension": ".py",
   "mimetype": "text/x-python",
   "name": "python",
   "nbconvert_exporter": "python",
   "pygments_lexer": "ipython3",
   "version": "3.8.5"
  }
 },
 "nbformat": 4,
 "nbformat_minor": 4
}
